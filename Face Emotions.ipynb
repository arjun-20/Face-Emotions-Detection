{
 "cells": [
  {
   "cell_type": "code",
   "execution_count": 3,
   "id": "c68d06a3",
   "metadata": {
    "scrolled": true
   },
   "outputs": [
    {
     "name": "stdout",
     "output_type": "stream",
     "text": [
      "Num GPUs Available:  1\n",
      "2.6.0\n"
     ]
    },
    {
     "data": {
      "text/plain": [
       "'3.9.12 (main, Apr  4 2022, 05:22:27) [MSC v.1916 64 bit (AMD64)]'"
      ]
     },
     "execution_count": 3,
     "metadata": {},
     "output_type": "execute_result"
    }
   ],
   "source": [
    "import tensorflow as tf\n",
    "from tensorflow import keras\n",
    "print(\"Num GPUs Available: \", len(tf.config.experimental.list_physical_devices('GPU')))\n",
    "tf.test.is_built_with_cuda()\n",
    "print(tf.version.VERSION)\n",
    "import sys\n",
    "sys.version"
   ]
  },
  {
   "cell_type": "code",
   "execution_count": 7,
   "id": "05eb10b5",
   "metadata": {},
   "outputs": [
    {
     "name": "stdout",
     "output_type": "stream",
     "text": [
      "4.6.0\n"
     ]
    }
   ],
   "source": [
    "print(cv2.__version__)"
   ]
  },
  {
   "cell_type": "code",
   "execution_count": 3,
   "id": "d94df9dd",
   "metadata": {},
   "outputs": [],
   "source": [
    "import matplotlib.pyplot as plt\n",
    "import numpy as np\n",
    "import pandas as pd\n",
    "import seaborn as sns\n",
    "import os"
   ]
  },
  {
   "cell_type": "code",
   "execution_count": 64,
   "id": "783355af",
   "metadata": {},
   "outputs": [],
   "source": [
    "from tensorflow.keras.preprocessing.image import load_img, img_to_array\n",
    "from tensorflow.keras.preprocessing.image import ImageDataGenerator\n",
    "from tensorflow.keras.layers import Dense,Input,Dropout,GlobalAveragePooling2D,Flatten,Conv2D,BatchNormalization,Activation,MaxPooling2D,AveragePooling2D\n",
    "from tensorflow.keras.models import Model,Sequential\n",
    "from tensorflow.keras.optimizers import Adam,SGD,RMSprop"
   ]
  },
  {
   "cell_type": "code",
   "execution_count": 5,
   "id": "5db817e2",
   "metadata": {},
   "outputs": [],
   "source": [
    "picture_size = 48\n",
    "folder_path = \"C:\\\\Users\\\\errar\\\\Projects\\\\Face emotions\\\\Dataset\""
   ]
  },
  {
   "cell_type": "code",
   "execution_count": 6,
   "id": "42af16d5",
   "metadata": {},
   "outputs": [
    {
     "name": "stdout",
     "output_type": "stream",
     "text": [
      "Found 28821 images belonging to 7 classes.\n",
      "Found 7066 images belonging to 7 classes.\n"
     ]
    }
   ],
   "source": [
    "batch_size = 128\n",
    "\n",
    "datagen_train  = ImageDataGenerator()\n",
    "datagen_val = ImageDataGenerator()\n",
    "\n",
    "\n",
    "train_set = datagen_train.flow_from_directory(folder_path+\"\\\\train\",\n",
    "                                              target_size = (picture_size,picture_size),\n",
    "                                              color_mode = \"grayscale\",\n",
    "                                              batch_size=batch_size,\n",
    "                                              class_mode='categorical',\n",
    "                                              shuffle=True)\n",
    "\n",
    "\n",
    "val_set = datagen_val.flow_from_directory(folder_path+\"\\\\validation\",\n",
    "                                              target_size = (picture_size,picture_size),\n",
    "                                              color_mode = \"grayscale\",\n",
    "                                              batch_size=batch_size,\n",
    "                                              class_mode='categorical',\n",
    "                                              shuffle=False)"
   ]
  },
  {
   "cell_type": "code",
   "execution_count": 128,
   "id": "2d16a532",
   "metadata": {},
   "outputs": [
    {
     "name": "stdout",
     "output_type": "stream",
     "text": [
      "Model: \"sequential_34\"\n",
      "_________________________________________________________________\n",
      "Layer (type)                 Output Shape              Param #   \n",
      "=================================================================\n",
      "conv2d_170 (Conv2D)          (None, 48, 48, 64)        640       \n",
      "_________________________________________________________________\n",
      "batch_normalization_217 (Bat (None, 48, 48, 64)        256       \n",
      "_________________________________________________________________\n",
      "activation_218 (Activation)  (None, 48, 48, 64)        0         \n",
      "_________________________________________________________________\n",
      "max_pooling2d_154 (MaxPoolin (None, 24, 24, 64)        0         \n",
      "_________________________________________________________________\n",
      "dropout_182 (Dropout)        (None, 24, 24, 64)        0         \n",
      "_________________________________________________________________\n",
      "conv2d_171 (Conv2D)          (None, 24, 24, 256)       147712    \n",
      "_________________________________________________________________\n",
      "batch_normalization_218 (Bat (None, 24, 24, 256)       1024      \n",
      "_________________________________________________________________\n",
      "activation_219 (Activation)  (None, 24, 24, 256)       0         \n",
      "_________________________________________________________________\n",
      "max_pooling2d_155 (MaxPoolin (None, 12, 12, 256)       0         \n",
      "_________________________________________________________________\n",
      "dropout_183 (Dropout)        (None, 12, 12, 256)       0         \n",
      "_________________________________________________________________\n",
      "conv2d_172 (Conv2D)          (None, 12, 12, 256)       590080    \n",
      "_________________________________________________________________\n",
      "batch_normalization_219 (Bat (None, 12, 12, 256)       1024      \n",
      "_________________________________________________________________\n",
      "activation_220 (Activation)  (None, 12, 12, 256)       0         \n",
      "_________________________________________________________________\n",
      "max_pooling2d_156 (MaxPoolin (None, 6, 6, 256)         0         \n",
      "_________________________________________________________________\n",
      "dropout_184 (Dropout)        (None, 6, 6, 256)         0         \n",
      "_________________________________________________________________\n",
      "conv2d_173 (Conv2D)          (None, 6, 6, 512)         1180160   \n",
      "_________________________________________________________________\n",
      "batch_normalization_220 (Bat (None, 6, 6, 512)         2048      \n",
      "_________________________________________________________________\n",
      "activation_221 (Activation)  (None, 6, 6, 512)         0         \n",
      "_________________________________________________________________\n",
      "max_pooling2d_157 (MaxPoolin (None, 3, 3, 512)         0         \n",
      "_________________________________________________________________\n",
      "dropout_185 (Dropout)        (None, 3, 3, 512)         0         \n",
      "_________________________________________________________________\n",
      "flatten_23 (Flatten)         (None, 4608)              0         \n",
      "_________________________________________________________________\n",
      "dense_71 (Dense)             (None, 512)               2359808   \n",
      "_________________________________________________________________\n",
      "batch_normalization_221 (Bat (None, 512)               2048      \n",
      "_________________________________________________________________\n",
      "activation_222 (Activation)  (None, 512)               0         \n",
      "_________________________________________________________________\n",
      "dropout_186 (Dropout)        (None, 512)               0         \n",
      "_________________________________________________________________\n",
      "dense_72 (Dense)             (None, 256)               131328    \n",
      "_________________________________________________________________\n",
      "batch_normalization_222 (Bat (None, 256)               1024      \n",
      "_________________________________________________________________\n",
      "activation_223 (Activation)  (None, 256)               0         \n",
      "_________________________________________________________________\n",
      "dropout_187 (Dropout)        (None, 256)               0         \n",
      "_________________________________________________________________\n",
      "dense_73 (Dense)             (None, 7)                 1799      \n",
      "=================================================================\n",
      "Total params: 4,418,951\n",
      "Trainable params: 4,415,239\n",
      "Non-trainable params: 3,712\n",
      "_________________________________________________________________\n"
     ]
    },
    {
     "name": "stderr",
     "output_type": "stream",
     "text": [
      "C:\\Users\\errar\\anaconda3\\envs\\gpu\\lib\\site-packages\\keras\\optimizer_v2\\optimizer_v2.py:355: UserWarning: The `lr` argument is deprecated, use `learning_rate` instead.\n",
      "  warnings.warn(\n"
     ]
    }
   ],
   "source": [
    "no_of_classes = 7\n",
    "\n",
    "model = Sequential()\n",
    "\n",
    "model.add(Conv2D(64,(3,3), padding = 'same', input_shape =(48,48,1)))\n",
    "model.add(BatchNormalization())\n",
    "model.add(Activation('relu'))\n",
    "model.add(MaxPooling2D(pool_size = (2,2)))\n",
    "model.add(Dropout(0.25))\n",
    "\n",
    "model.add(Conv2D(256,(3,3), padding = 'same'))\n",
    "model.add(BatchNormalization())\n",
    "model.add(Activation('relu'))\n",
    "model.add(MaxPooling2D(pool_size = (2,2)))\n",
    "model.add(Dropout(0.25))\n",
    "\n",
    "model.add(Conv2D(256,(3,3), padding = 'same'))\n",
    "model.add(BatchNormalization())\n",
    "model.add(Activation('relu'))\n",
    "model.add(MaxPooling2D(pool_size = (2,2)))\n",
    "model.add(Dropout(0.25))\n",
    "\n",
    "model.add(Conv2D(512,(3,3), padding = 'same'))\n",
    "model.add(BatchNormalization())\n",
    "model.add(Activation('relu'))\n",
    "model.add(MaxPooling2D(pool_size = (2,2)))\n",
    "model.add(Dropout(0.25))\n",
    "\n",
    "\n",
    "\n",
    "model.add(Flatten()) \n",
    "\n",
    "\n",
    "model.add(Dense(512)) \n",
    "model.add(BatchNormalization())\n",
    "model.add(Activation('relu'))\n",
    "model.add(Dropout(0.25))\n",
    "\n",
    "model.add(Dense(256)) \n",
    "model.add(BatchNormalization())\n",
    "model.add(Activation('relu'))\n",
    "model.add(Dropout(0.25))\n",
    "\n",
    "model.add(Dense(no_of_classes, activation = 'softmax'))\n",
    "\n",
    "opt = Adam(lr = 0.0001)\n",
    "model.compile(optimizer= opt, loss= 'categorical_crossentropy', metrics=['accuracy'])\n",
    "model.summary()"
   ]
  },
  {
   "cell_type": "code",
   "execution_count": 137,
   "id": "40abf66e",
   "metadata": {},
   "outputs": [
    {
     "name": "stderr",
     "output_type": "stream",
     "text": [
      "C:\\Users\\errar\\anaconda3\\envs\\gpu\\lib\\site-packages\\keras\\optimizer_v2\\optimizer_v2.py:355: UserWarning: The `lr` argument is deprecated, use `learning_rate` instead.\n",
      "  warnings.warn(\n"
     ]
    }
   ],
   "source": [
    "from tensorflow.keras.callbacks import ModelCheckpoint, EarlyStopping,ReduceLROnPlateau\n",
    "\n",
    "checkpoint = ModelCheckpoint(\"./model.h5\", monitor='val_acc', verbose=1, save_best_only=True, mode='max')\n",
    "\n",
    "early_stopping = EarlyStopping(monitor='val_loss',\n",
    "                          min_delta=0,\n",
    "                          patience=3,\n",
    "                          verbose=1,\n",
    "                          restore_best_weights=True\n",
    "                          )\n",
    "\n",
    "reduce_learningrate = ReduceLROnPlateau(monitor='val_loss',\n",
    "                              factor=0.2,\n",
    "                              patience=3,\n",
    "                              verbose=1,\n",
    "                              min_delta=0.0001)\n",
    "\n",
    "callbacks_list = [early_stopping,checkpoint,reduce_learningrate]\n",
    "\n",
    "epochs = 48\n",
    "\n",
    "model.compile(loss='categorical_crossentropy',\n",
    "              optimizer = Adam(lr=0.0001),\n",
    "              metrics=['accuracy'])"
   ]
  },
  {
   "cell_type": "code",
   "execution_count": 138,
   "id": "4d0cac7c",
   "metadata": {
    "scrolled": false
   },
   "outputs": [
    {
     "name": "stderr",
     "output_type": "stream",
     "text": [
      "C:\\Users\\errar\\anaconda3\\envs\\gpu\\lib\\site-packages\\keras\\engine\\training.py:1972: UserWarning: `Model.fit_generator` is deprecated and will be removed in a future version. Please use `Model.fit`, which supports generators.\n",
      "  warnings.warn('`Model.fit_generator` is deprecated and '\n"
     ]
    },
    {
     "name": "stdout",
     "output_type": "stream",
     "text": [
      "Epoch 1/48\n",
      "225/225 [==============================] - 13s 51ms/step - loss: 1.1652 - accuracy: 0.5633 - val_loss: 1.0677 - val_accuracy: 0.5922\n",
      "WARNING:tensorflow:Can save best model only with val_acc available, skipping.\n",
      "Epoch 2/48\n",
      "225/225 [==============================] - 11s 48ms/step - loss: 1.1322 - accuracy: 0.5739 - val_loss: 1.0511 - val_accuracy: 0.5973\n",
      "WARNING:tensorflow:Can save best model only with val_acc available, skipping.\n",
      "Epoch 3/48\n",
      "225/225 [==============================] - 11s 48ms/step - loss: 1.1122 - accuracy: 0.5829 - val_loss: 1.0409 - val_accuracy: 0.6033\n",
      "WARNING:tensorflow:Can save best model only with val_acc available, skipping.\n",
      "Epoch 4/48\n",
      "225/225 [==============================] - 11s 50ms/step - loss: 1.0956 - accuracy: 0.5919 - val_loss: 1.0322 - val_accuracy: 0.6030\n",
      "WARNING:tensorflow:Can save best model only with val_acc available, skipping.\n",
      "Epoch 5/48\n",
      "225/225 [==============================] - 11s 49ms/step - loss: 1.0810 - accuracy: 0.5941 - val_loss: 1.0256 - val_accuracy: 0.6081\n",
      "WARNING:tensorflow:Can save best model only with val_acc available, skipping.\n",
      "Epoch 6/48\n",
      "225/225 [==============================] - 11s 49ms/step - loss: 1.0702 - accuracy: 0.6005 - val_loss: 1.0199 - val_accuracy: 0.6075\n",
      "WARNING:tensorflow:Can save best model only with val_acc available, skipping.\n",
      "Epoch 7/48\n",
      "225/225 [==============================] - 11s 48ms/step - loss: 1.0602 - accuracy: 0.6040 - val_loss: 1.0149 - val_accuracy: 0.6141\n",
      "WARNING:tensorflow:Can save best model only with val_acc available, skipping.\n",
      "Epoch 8/48\n",
      "225/225 [==============================] - 11s 49ms/step - loss: 1.0463 - accuracy: 0.6099 - val_loss: 1.0110 - val_accuracy: 0.6132\n",
      "WARNING:tensorflow:Can save best model only with val_acc available, skipping.\n",
      "Epoch 9/48\n",
      "225/225 [==============================] - 11s 49ms/step - loss: 1.0384 - accuracy: 0.6145 - val_loss: 1.0048 - val_accuracy: 0.6165\n",
      "WARNING:tensorflow:Can save best model only with val_acc available, skipping.\n",
      "Epoch 10/48\n",
      "225/225 [==============================] - 11s 49ms/step - loss: 1.0310 - accuracy: 0.6188 - val_loss: 1.0001 - val_accuracy: 0.6202\n",
      "WARNING:tensorflow:Can save best model only with val_acc available, skipping.\n",
      "Epoch 11/48\n",
      "225/225 [==============================] - 12s 51ms/step - loss: 1.0227 - accuracy: 0.6216 - val_loss: 0.9973 - val_accuracy: 0.6237\n",
      "WARNING:tensorflow:Can save best model only with val_acc available, skipping.\n",
      "Epoch 12/48\n",
      "225/225 [==============================] - 12s 51ms/step - loss: 1.0150 - accuracy: 0.6249 - val_loss: 0.9940 - val_accuracy: 0.6261\n",
      "WARNING:tensorflow:Can save best model only with val_acc available, skipping.\n",
      "Epoch 13/48\n",
      "225/225 [==============================] - 11s 50ms/step - loss: 1.0042 - accuracy: 0.6299 - val_loss: 0.9919 - val_accuracy: 0.6278\n",
      "WARNING:tensorflow:Can save best model only with val_acc available, skipping.\n",
      "Epoch 14/48\n",
      "225/225 [==============================] - 12s 51ms/step - loss: 0.9919 - accuracy: 0.6326 - val_loss: 0.9886 - val_accuracy: 0.6267\n",
      "WARNING:tensorflow:Can save best model only with val_acc available, skipping.\n",
      "Epoch 15/48\n",
      "225/225 [==============================] - 12s 54ms/step - loss: 0.9839 - accuracy: 0.6369 - val_loss: 0.9869 - val_accuracy: 0.6301\n",
      "WARNING:tensorflow:Can save best model only with val_acc available, skipping.\n",
      "Epoch 16/48\n",
      "225/225 [==============================] - 11s 50ms/step - loss: 0.9752 - accuracy: 0.6448 - val_loss: 0.9826 - val_accuracy: 0.6328\n",
      "WARNING:tensorflow:Can save best model only with val_acc available, skipping.\n",
      "Epoch 17/48\n",
      "225/225 [==============================] - 11s 50ms/step - loss: 0.9672 - accuracy: 0.6445 - val_loss: 0.9800 - val_accuracy: 0.6334\n",
      "WARNING:tensorflow:Can save best model only with val_acc available, skipping.\n",
      "Epoch 18/48\n",
      "225/225 [==============================] - 12s 52ms/step - loss: 0.9591 - accuracy: 0.6489 - val_loss: 0.9772 - val_accuracy: 0.6371\n",
      "WARNING:tensorflow:Can save best model only with val_acc available, skipping.\n",
      "Epoch 19/48\n",
      "225/225 [==============================] - 11s 50ms/step - loss: 0.9500 - accuracy: 0.6510 - val_loss: 0.9741 - val_accuracy: 0.6359\n",
      "WARNING:tensorflow:Can save best model only with val_acc available, skipping.\n",
      "Epoch 20/48\n",
      "225/225 [==============================] - 12s 52ms/step - loss: 0.9400 - accuracy: 0.6569 - val_loss: 0.9712 - val_accuracy: 0.6381\n",
      "WARNING:tensorflow:Can save best model only with val_acc available, skipping.\n",
      "Epoch 21/48\n",
      "225/225 [==============================] - 11s 50ms/step - loss: 0.9272 - accuracy: 0.6637 - val_loss: 0.9696 - val_accuracy: 0.6420\n",
      "WARNING:tensorflow:Can save best model only with val_acc available, skipping.\n",
      "Epoch 22/48\n",
      "225/225 [==============================] - 11s 51ms/step - loss: 0.9190 - accuracy: 0.6655 - val_loss: 0.9678 - val_accuracy: 0.6416\n",
      "WARNING:tensorflow:Can save best model only with val_acc available, skipping.\n",
      "Epoch 23/48\n",
      "225/225 [==============================] - 12s 52ms/step - loss: 0.9159 - accuracy: 0.6656 - val_loss: 0.9679 - val_accuracy: 0.6426\n",
      "WARNING:tensorflow:Can save best model only with val_acc available, skipping.\n",
      "Epoch 24/48\n",
      "225/225 [==============================] - 11s 50ms/step - loss: 0.9068 - accuracy: 0.6713 - val_loss: 0.9678 - val_accuracy: 0.6419\n",
      "WARNING:tensorflow:Can save best model only with val_acc available, skipping.\n",
      "Epoch 25/48\n",
      "225/225 [==============================] - 11s 51ms/step - loss: 0.8941 - accuracy: 0.6769 - val_loss: 0.9662 - val_accuracy: 0.6446\n",
      "WARNING:tensorflow:Can save best model only with val_acc available, skipping.\n",
      "Epoch 26/48\n",
      "225/225 [==============================] - 11s 51ms/step - loss: 0.8851 - accuracy: 0.6781 - val_loss: 0.9645 - val_accuracy: 0.6462\n",
      "WARNING:tensorflow:Can save best model only with val_acc available, skipping.\n",
      "Epoch 27/48\n",
      "225/225 [==============================] - 11s 50ms/step - loss: 0.8801 - accuracy: 0.6810 - val_loss: 0.9627 - val_accuracy: 0.6462\n",
      "WARNING:tensorflow:Can save best model only with val_acc available, skipping.\n",
      "Epoch 28/48\n",
      "225/225 [==============================] - 11s 51ms/step - loss: 0.8704 - accuracy: 0.6845 - val_loss: 0.9643 - val_accuracy: 0.6457\n",
      "WARNING:tensorflow:Can save best model only with val_acc available, skipping.\n",
      "Epoch 29/48\n",
      "225/225 [==============================] - 12s 54ms/step - loss: 0.8585 - accuracy: 0.6898 - val_loss: 0.9641 - val_accuracy: 0.6528\n",
      "WARNING:tensorflow:Can save best model only with val_acc available, skipping.\n",
      "Epoch 30/48\n",
      "225/225 [==============================] - 12s 52ms/step - loss: 0.8485 - accuracy: 0.6957 - val_loss: 0.9623 - val_accuracy: 0.6491\n",
      "WARNING:tensorflow:Can save best model only with val_acc available, skipping.\n",
      "Epoch 31/48\n",
      "225/225 [==============================] - 12s 55ms/step - loss: 0.8426 - accuracy: 0.6987 - val_loss: 0.9648 - val_accuracy: 0.6500\n",
      "WARNING:tensorflow:Can save best model only with val_acc available, skipping.\n",
      "Epoch 32/48\n",
      "225/225 [==============================] - 12s 54ms/step - loss: 0.8363 - accuracy: 0.6985 - val_loss: 0.9636 - val_accuracy: 0.6534\n",
      "WARNING:tensorflow:Can save best model only with val_acc available, skipping.\n",
      "Epoch 33/48\n",
      "225/225 [==============================] - 12s 52ms/step - loss: 0.8293 - accuracy: 0.7039 - val_loss: 0.9637 - val_accuracy: 0.6541\n",
      "Restoring model weights from the end of the best epoch.\n",
      "WARNING:tensorflow:Can save best model only with val_acc available, skipping.\n",
      "\n",
      "Epoch 00033: ReduceLROnPlateau reducing learning rate to 1.9999999494757503e-05.\n",
      "Epoch 00033: early stopping\n"
     ]
    }
   ],
   "source": [
    "history = model.fit_generator(generator=train_set,\n",
    "                                steps_per_epoch=train_set.n//train_set.batch_size,\n",
    "                                epochs=epochs,\n",
    "                                validation_data = val_set,\n",
    "                                validation_steps = val_set.n//val_set.batch_size,\n",
    "                                callbacks=callbacks_list\n",
    "                                )"
   ]
  },
  {
   "cell_type": "code",
   "execution_count": 140,
   "id": "4679e953",
   "metadata": {},
   "outputs": [],
   "source": [
    "model.save(\"C:\\\\Users\\\\errar\\\\Projects\\\\Face emotions\\\\model.h5\")"
   ]
  },
  {
   "cell_type": "code",
   "execution_count": 141,
   "id": "12e4bd73",
   "metadata": {},
   "outputs": [
    {
     "data": {
      "image/png": "[encoded data removed]",
      "text/plain": [
       "<Figure size 1440x720 with 2 Axes>"
      ]
     },
     "metadata": {},
     "output_type": "display_data"
    }
   ],
   "source": [
    "plt.style.use('dark_background')\n",
    "\n",
    "plt.figure(figsize=(20,10))\n",
    "plt.subplot(1, 2, 1)\n",
    "plt.suptitle('Optimizer : Adam', fontsize=10)\n",
    "plt.ylabel('Loss', fontsize=16)\n",
    "plt.plot(history.history['loss'], label='Training Loss')\n",
    "plt.plot(history.history['val_loss'], label='Validation Loss')\n",
    "plt.legend(loc='upper right')\n",
    "\n",
    "plt.subplot(1, 2, 2)\n",
    "plt.ylabel('Accuracy', fontsize=16)\n",
    "plt.plot(history.history['accuracy'], label='Training Accuracy')\n",
    "plt.plot(history.history['val_accuracy'], label='Validation Accuracy')\n",
    "plt.legend(loc='lower right')\n",
    "plt.show()"
   ]
  },
  {
   "cell_type": "code",
   "execution_count": null,
   "id": "339b7727",
   "metadata": {},
   "outputs": [],
   "source": []
  }
 ],
 "metadata": {
  "kernelspec": {
   "display_name": "Python 3 (ipykernel)",
   "language": "python",
   "name": "python3"
  },
  "language_info": {
   "codemirror_mode": {
    "name": "ipython",
    "version": 3
   },
   "file_extension": ".py",
   "mimetype": "text/x-python",
   "name": "python",
   "nbconvert_exporter": "python",
   "pygments_lexer": "ipython3",
   "version": "3.9.12"
  },
  "vscode": {
   "interpreter": {
    "hash": "9d636f2642b38dd40afe13bc6bbcf515d24ebae52be627d0899485c550f191a8"
   }
  }
 },
 "nbformat": 4,
 "nbformat_minor": 5
}
